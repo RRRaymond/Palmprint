{
 "cells": [
  {
   "cell_type": "code",
   "execution_count": null,
   "metadata": {
    "collapsed": true
   },
   "outputs": [],
   "source": [
    "################\n",
    "# CarND-Term1 #\n",
    "###############\n",
    "\n",
    "# Author: Michael\n",
    "# 153792051@qq.com\n",
    "# fengjihua@live.com\n",
    "# Github:@fengjihua"
   ]
  },
  {
   "cell_type": "code",
   "execution_count": 2,
   "metadata": {
    "scrolled": false
   },
   "outputs": [
    {
     "name": "stdout",
     "output_type": "stream",
     "text": [
      "TensorFlow Version: 1.4.1\n",
      "Keras Version: 2.1.1\n",
      "No GPU found. Please use a GPU to train your neural network.\n"
     ]
    }
   ],
   "source": [
    "import os\n",
    "import sys\n",
    "import glob\n",
    "import time\n",
    "import random\n",
    "import numpy as np\n",
    "import matplotlib.pyplot as plt\n",
    "import cv2\n",
    "import tensorflow as tf\n",
    "import sklearn\n",
    "import keras\n",
    "\n",
    "import python.darknet as dn\n",
    "\n",
    "print('TensorFlow Version: {}'.format(tf.__version__))\n",
    "print('Keras Version: {}'.format(keras.__version__))\n",
    "\n",
    "# Check for a GPU\n",
    "if not tf.test.gpu_device_name():\n",
    "    print('No GPU found. Please use a GPU to train your neural network.')\n",
    "else:\n",
    "    print('Default GPU Device: {}'.format(tf.test.gpu_device_name()))"
   ]
  },
  {
   "cell_type": "code",
   "execution_count": 10,
   "metadata": {},
   "outputs": [
    {
     "name": "stdout",
     "output_type": "stream",
     "text": [
      "1.206428050994873 [(b'dog', 0.8190039396286011, (218.27981567382812, 396.96441650390625, 220.75424194335938, 297.29541015625)), (b'car', 0.7384477257728577, (573.058349609375, 127.71867370605469, 205.61093139648438, 92.83555603027344)), (b'bicycle', 0.58916175365448, (325.5345458984375, 291.75482177734375, 526.5186157226562, 295.2360534667969))] \n",
      "\n",
      "1.0491509437561035 [(b'bird', 0.8648977875709534, (391.2657165527344, 260.7304382324219, 541.7066650390625, 450.8343505859375)), (b'bird', 0.623755693435669, (385.0156555175781, 264.619384765625, 313.2896423339844, 347.3016662597656))] \n",
      "\n",
      "1.0619189739227295 [(b'zebra', 0.7988424301147461, (339.5881652832031, 358.3405456542969, 155.3694305419922, 165.02853393554688)), (b'giraffe', 0.6329795718193054, (323.0013427734375, 181.05540466308594, 314.4896545410156, 402.797607421875))] \n",
      "\n",
      "1.066114902496338 [(b'horse', 0.7984921336174011, (339.8251953125, 276.8506774902344, 188.73463439941406, 183.21426391601562)), (b'horse', 0.7898931503295898, (159.47354125976562, 297.6837463378906, 290.8000183105469, 219.95046997070312)), (b'horse', 0.643717885017395, (518.290771484375, 278.3280944824219, 161.62713623046875, 147.6949920654297))] \n",
      "\n",
      "1.014139175415039 [(b'dog', 0.9186078310012817, (133.22190856933594, 307.9037780761719, 127.10195922851562, 90.55431365966797)), (b'horse', 0.9166635870933533, (506.403564453125, 226.65943908691406, 205.5781707763672, 214.52764892578125)), (b'person', 0.9133346080780029, (224.91802978515625, 229.6060028076172, 87.49049377441406, 266.4752502441406))] \n",
      "\n"
     ]
    }
   ],
   "source": [
    "# dn.set_gpu(0)\n",
    "net = dn.load_net(str.encode(\"cfg/tiny-yolo.cfg\"), str.encode(\"weights/tiny-yolo.weights\"), 0)\n",
    "meta = dn.load_meta(str.encode(\"cfg/coco.data\"))\n",
    "tic = time.time()\n",
    "r = dn.detect(net, meta, str.encode(\"data/dog.jpg\"))\n",
    "toc = time.time()\n",
    "print(toc - tic, r, \"\\n\")\n",
    "\n",
    "tic = time.time()\n",
    "r = dn.detect(net, meta, str.encode(\"data/eagle.jpg\"))\n",
    "toc = time.time()\n",
    "print(toc - tic, r, \"\\n\")\n",
    "\n",
    "tic = time.time()\n",
    "r = dn.detect(net, meta, str.encode(\"data/giraffe.jpg\"))\n",
    "toc = time.time()\n",
    "print(toc - tic, r, \"\\n\")\n",
    "\n",
    "tic = time.time()\n",
    "r = dn.detect(net, meta, str.encode(\"data/horses.jpg\"))\n",
    "toc = time.time()\n",
    "print(toc - tic, r, \"\\n\")\n",
    "\n",
    "tic = time.time()\n",
    "r = dn.detect(net, meta, str.encode(\"data/person.jpg\"))\n",
    "toc = time.time()\n",
    "print(toc - tic, r, \"\\n\")"
   ]
  },
  {
   "cell_type": "code",
   "execution_count": null,
   "metadata": {
    "collapsed": true
   },
   "outputs": [],
   "source": [
    "def draw_boxes(result):\n",
    "    "
   ]
  },
  {
   "cell_type": "code",
   "execution_count": null,
   "metadata": {
    "collapsed": true
   },
   "outputs": [],
   "source": [
    "def pipeline(img):\n",
    "\n",
    "    r = dn.detect(net, meta, img)\n",
    "    img_final = draw_boxes(r)\n",
    "    \n",
    "    return img_final"
   ]
  },
  {
   "cell_type": "code",
   "execution_count": null,
   "metadata": {
    "collapsed": true,
    "scrolled": false
   },
   "outputs": [],
   "source": [
    "cap = cv2.VideoCapture(0)\n",
    "count = 0\n",
    "while(1):\n",
    "    count += 1\n",
    "    \n",
    "    # get a frame\n",
    "    ret, frame = cap.read()\n",
    "#     print(ret, frame.shape)\n",
    "\n",
    "    # show a frame\n",
    "    img = cv2.resize(frame, (0, 0), fx=0.5, fy=0.5)\n",
    "    cv2.imshow(\"Video\", img)\n",
    "    \n",
    "    if count % 1 == 0:\n",
    "        cv2.imshow(\"YOLO\", pipeline(img))\n",
    "\n",
    "    if cv2.waitKey(1) & 0xFF == ord('q'):\n",
    "        break\n",
    "cap.release()\n",
    "cv2.destroyAllWindows() "
   ]
  },
  {
   "cell_type": "code",
   "execution_count": null,
   "metadata": {
    "collapsed": true
   },
   "outputs": [],
   "source": []
  }
 ],
 "metadata": {
  "kernelspec": {
   "display_name": "Python 3",
   "language": "python",
   "name": "python3"
  },
  "language_info": {
   "codemirror_mode": {
    "name": "ipython",
    "version": 3
   },
   "file_extension": ".py",
   "mimetype": "text/x-python",
   "name": "python",
   "nbconvert_exporter": "python",
   "pygments_lexer": "ipython3",
   "version": "3.6.3"
  }
 },
 "nbformat": 4,
 "nbformat_minor": 2
}
